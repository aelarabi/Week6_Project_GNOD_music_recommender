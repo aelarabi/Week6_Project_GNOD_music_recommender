{
 "cells": [
  {
   "cell_type": "code",
   "execution_count": 1,
   "id": "5fdc5173",
   "metadata": {},
   "outputs": [],
   "source": [
    "import pandas as pd\n",
    "import numpy as np\n",
    "import pickle\n",
    "from sklearn import datasets # sklearn comes with some toy datasets to practise\n",
    "from sklearn.preprocessing import StandardScaler\n",
    "from sklearn.cluster import KMeans\n",
    "from sklearn.metrics import silhouette_score\n",
    "\n",
    "from sklearn.datasets import make_classification # download a dataset \n",
    "from sklearn.cluster import DBSCAN\n",
    "from sklearn.mixture import GaussianMixture\n",
    "from scipy.spatial import distance_matrix\n",
    "import matplotlib.pyplot as plt\n",
    "\n",
    "from sklearn.cluster import AgglomerativeClustering\n",
    "from scipy.cluster.hierarchy import dendrogram\n",
    "import matplotlib.pyplot as plt\n",
    "import seaborn as sns\n",
    "%matplotlib inline\n",
    "\n",
    "import spotipy\n",
    "import json\n",
    "from spotipy.oauth2 import SpotifyClientCredentials\n",
    "\n",
    "from config import *"
   ]
  },
  {
   "cell_type": "code",
   "execution_count": 2,
   "id": "e93869e7",
   "metadata": {},
   "outputs": [],
   "source": [
    "sp = spotipy.Spotify(auth_manager=SpotifyClientCredentials(client_id= client_id,\n",
    "                                                           client_secret= client_secret)) #client_id and client-secret as written the config file."
   ]
  },
  {
   "cell_type": "code",
   "execution_count": 3,
   "id": "75fb9cb9",
   "metadata": {},
   "outputs": [],
   "source": [
    "#funtion to load\n",
    "def load(filename = \"filename.pickle\"): \n",
    "    try: \n",
    "        with open(filename, \"rb\") as file: # we open the file to read \"rb\"\n",
    "            return pickle.load(file) #load\n",
    "    except FileNotFoundError: \n",
    "        print(\"File not found!\") "
   ]
  },
  {
   "cell_type": "code",
   "execution_count": 4,
   "id": "15706ba5",
   "metadata": {},
   "outputs": [],
   "source": [
    "music_recommender_df=pd.read_csv('data/music_recommender_db.csv')\n",
    "#music_recommender_df.columns\n",
    "music_recommender_df=music_recommender_df.drop(['Unnamed: 0'], axis=1)"
   ]
  },
  {
   "cell_type": "markdown",
   "id": "b698b8fc",
   "metadata": {},
   "source": [
    "### Retrieve user provided song features: "
   ]
  },
  {
   "cell_type": "code",
   "execution_count": 5,
   "id": "68083a27",
   "metadata": {},
   "outputs": [],
   "source": [
    "def get_user_song():\n",
    "    \n",
    "    artist_name=input(\"Please enter the full name of the artist: \")\n",
    "    song_name=input(\"Please enter the full name of the song: \")\n",
    "    \n",
    "    return artist_name, song_name\n"
   ]
  },
  {
   "cell_type": "code",
   "execution_count": 6,
   "id": "b6460dc7",
   "metadata": {},
   "outputs": [
    {
     "name": "stdout",
     "output_type": "stream",
     "text": [
      "Please enter the full name of the artist: Glass Animals\n",
      "Please enter the full name of the song: Heat Waves\n",
      "The song ID is ['3USxtqRwSYz57Ewm6wWRMp']\n",
      "You can listen to: 'Heat Waves', by the artist:'Glass Animals' at: https://open.spotify.com/track/3USxtqRwSYz57Ewm6wWRMp\n"
     ]
    }
   ],
   "source": [
    "artist_name, song_name = get_user_song()\n",
    "user_song_id=[]\n",
    "try:\n",
    "    results= sp.search(q=\"track:\"+song_name+\" artist:\"+artist_name, limit=1)\n",
    "                   #(q=\"track:\"+title+\" artist:\"+artist,limit=1)\n",
    "    song_id=results['tracks']['items'][0]['id']\n",
    "    user_song_id.append(song_id)\n",
    "    print(\"The song ID is {}\".format(user_song_id))\n",
    "except:\n",
    "    print(\"The song {} of the artist {} has not been found on Spotify\".format(song_name,artist_name))\n",
    "    print(\"Plese enter a new artist name and song:\")\n",
    "    artist_name, song_name = get_user_song()\n",
    "\n",
    "featuredic=sp.audio_features(user_song_id)[0]\n",
    "songs_features = { key : [featuredic[key]] for key in list(featuredic.keys()) }\n",
    "\n",
    "user_song_features=pd.DataFrame(songs_features)\n",
    "#user_song_features\n",
    "\n",
    "for item in results['tracks']['items']:\n",
    "    print(\"You can listen to: '{}', by the artist:'{}' at: {}\".format(item['name'],item['artists'][0]['name'],item['external_urls']['spotify']))"
   ]
  },
  {
   "cell_type": "code",
   "execution_count": 7,
   "id": "13352985",
   "metadata": {},
   "outputs": [],
   "source": [
    "user_song_features_num = user_song_features.select_dtypes(include=np.number)\n",
    "user_song_features_num=user_song_features_num.drop(['key','mode','time_signature','duration_ms','liveness'],axis=1)"
   ]
  },
  {
   "cell_type": "markdown",
   "id": "e0b4725a",
   "metadata": {},
   "source": [
    "### Recommend the user a song based on perceived preference: "
   ]
  },
  {
   "cell_type": "code",
   "execution_count": 8,
   "id": "0c657273",
   "metadata": {},
   "outputs": [],
   "source": [
    "scaler=load('transformation/scaler.pickle')\n",
    "user_song_features_scaled=scaler.transform(user_song_features_num)\n",
    "user_scaled_df = pd.DataFrame(user_song_features_scaled, columns = user_song_features_num.columns)"
   ]
  },
  {
   "cell_type": "code",
   "execution_count": 9,
   "id": "53c2ea72",
   "metadata": {},
   "outputs": [
    {
     "data": {
      "text/html": [
       "<style>#sk-container-id-1 {color: black;background-color: white;}#sk-container-id-1 pre{padding: 0;}#sk-container-id-1 div.sk-toggleable {background-color: white;}#sk-container-id-1 label.sk-toggleable__label {cursor: pointer;display: block;width: 100%;margin-bottom: 0;padding: 0.3em;box-sizing: border-box;text-align: center;}#sk-container-id-1 label.sk-toggleable__label-arrow:before {content: \"▸\";float: left;margin-right: 0.25em;color: #696969;}#sk-container-id-1 label.sk-toggleable__label-arrow:hover:before {color: black;}#sk-container-id-1 div.sk-estimator:hover label.sk-toggleable__label-arrow:before {color: black;}#sk-container-id-1 div.sk-toggleable__content {max-height: 0;max-width: 0;overflow: hidden;text-align: left;background-color: #f0f8ff;}#sk-container-id-1 div.sk-toggleable__content pre {margin: 0.2em;color: black;border-radius: 0.25em;background-color: #f0f8ff;}#sk-container-id-1 input.sk-toggleable__control:checked~div.sk-toggleable__content {max-height: 200px;max-width: 100%;overflow: auto;}#sk-container-id-1 input.sk-toggleable__control:checked~label.sk-toggleable__label-arrow:before {content: \"▾\";}#sk-container-id-1 div.sk-estimator input.sk-toggleable__control:checked~label.sk-toggleable__label {background-color: #d4ebff;}#sk-container-id-1 div.sk-label input.sk-toggleable__control:checked~label.sk-toggleable__label {background-color: #d4ebff;}#sk-container-id-1 input.sk-hidden--visually {border: 0;clip: rect(1px 1px 1px 1px);clip: rect(1px, 1px, 1px, 1px);height: 1px;margin: -1px;overflow: hidden;padding: 0;position: absolute;width: 1px;}#sk-container-id-1 div.sk-estimator {font-family: monospace;background-color: #f0f8ff;border: 1px dotted black;border-radius: 0.25em;box-sizing: border-box;margin-bottom: 0.5em;}#sk-container-id-1 div.sk-estimator:hover {background-color: #d4ebff;}#sk-container-id-1 div.sk-parallel-item::after {content: \"\";width: 100%;border-bottom: 1px solid gray;flex-grow: 1;}#sk-container-id-1 div.sk-label:hover label.sk-toggleable__label {background-color: #d4ebff;}#sk-container-id-1 div.sk-serial::before {content: \"\";position: absolute;border-left: 1px solid gray;box-sizing: border-box;top: 0;bottom: 0;left: 50%;z-index: 0;}#sk-container-id-1 div.sk-serial {display: flex;flex-direction: column;align-items: center;background-color: white;padding-right: 0.2em;padding-left: 0.2em;position: relative;}#sk-container-id-1 div.sk-item {position: relative;z-index: 1;}#sk-container-id-1 div.sk-parallel {display: flex;align-items: stretch;justify-content: center;background-color: white;position: relative;}#sk-container-id-1 div.sk-item::before, #sk-container-id-1 div.sk-parallel-item::before {content: \"\";position: absolute;border-left: 1px solid gray;box-sizing: border-box;top: 0;bottom: 0;left: 50%;z-index: -1;}#sk-container-id-1 div.sk-parallel-item {display: flex;flex-direction: column;z-index: 1;position: relative;background-color: white;}#sk-container-id-1 div.sk-parallel-item:first-child::after {align-self: flex-end;width: 50%;}#sk-container-id-1 div.sk-parallel-item:last-child::after {align-self: flex-start;width: 50%;}#sk-container-id-1 div.sk-parallel-item:only-child::after {width: 0;}#sk-container-id-1 div.sk-dashed-wrapped {border: 1px dashed gray;margin: 0 0.4em 0.5em 0.4em;box-sizing: border-box;padding-bottom: 0.4em;background-color: white;}#sk-container-id-1 div.sk-label label {font-family: monospace;font-weight: bold;display: inline-block;line-height: 1.2em;}#sk-container-id-1 div.sk-label-container {text-align: center;}#sk-container-id-1 div.sk-container {/* jupyter's `normalize.less` sets `[hidden] { display: none; }` but bootstrap.min.css set `[hidden] { display: none !important; }` so we also need the `!important` here to be able to override the default hidden behavior on the sphinx rendered scikit-learn.org. See: https://github.com/scikit-learn/scikit-learn/issues/21755 */display: inline-block !important;position: relative;}#sk-container-id-1 div.sk-text-repr-fallback {display: none;}</style><div id=\"sk-container-id-1\" class=\"sk-top-container\"><div class=\"sk-text-repr-fallback\"><pre>KMeans(n_clusters=30, verbose=1)</pre><b>In a Jupyter environment, please rerun this cell to show the HTML representation or trust the notebook. <br />On GitHub, the HTML representation is unable to render, please try loading this page with nbviewer.org.</b></div><div class=\"sk-container\" hidden><div class=\"sk-item\"><div class=\"sk-estimator sk-toggleable\"><input class=\"sk-toggleable__control sk-hidden--visually\" id=\"sk-estimator-id-1\" type=\"checkbox\" checked><label for=\"sk-estimator-id-1\" class=\"sk-toggleable__label sk-toggleable__label-arrow\">KMeans</label><div class=\"sk-toggleable__content\"><pre>KMeans(n_clusters=30, verbose=1)</pre></div></div></div></div></div>"
      ],
      "text/plain": [
       "KMeans(n_clusters=30, verbose=1)"
      ]
     },
     "execution_count": 9,
     "metadata": {},
     "output_type": "execute_result"
    }
   ],
   "source": [
    "kmeans_30=load('models/kmeans_30.pickle')\n",
    "kmeans_30"
   ]
  },
  {
   "cell_type": "code",
   "execution_count": 10,
   "id": "5b0dd47a",
   "metadata": {},
   "outputs": [],
   "source": [
    "user_cluster = kmeans_30.predict(user_scaled_df)\n",
    "#user_cluster[0]\n",
    "#clusters\n",
    "#pd.Series(clusters).value_counts().sort_index()#.sum() # Number of wines "
   ]
  },
  {
   "cell_type": "code",
   "execution_count": 11,
   "id": "45e64d0d",
   "metadata": {},
   "outputs": [],
   "source": [
    "def isin_df(df, artist_name, song_name):\n",
    "    \"\"\"\n",
    "    This function looks if a input song is in the the input dataframe\n",
    "    \n",
    "    Inputs: \n",
    "      df -> dataframe\n",
    "      artist_name -> str\n",
    "      song_name -> str\n",
    "    \n",
    "    Outputs:\n",
    "      bool\n",
    "    \"\"\"\n",
    "    if (artist_name in list(df['artist_name'].values)) and (song_name in list(df['song_title'].values)) :\n",
    "        return True\n",
    "    else:\n",
    "        return False"
   ]
  },
  {
   "cell_type": "code",
   "execution_count": 12,
   "id": "0a5634da",
   "metadata": {},
   "outputs": [],
   "source": [
    "def recommend(df):\n",
    "    df_hot = df[df['identifier'] == 'hot100']\n",
    "\n",
    "    if ( isin_df(df_hot, artist_name, song_name) == True  ):\n",
    "        print(\"Hot song!\")\n",
    "        #display(df[(df['identifier']== \"hot100\") & (df['cluster_k30']==user_cluster[0])].head())\n",
    "        recommendation = df[(df['identifier']==\"hot100\") & (df['cluster_k30'] == user_cluster[0]) & (artist_name != df['artist_name']) & (song_name != df['song_title'])].sample()\n",
    "        display(recommendation[['artist_name','song_title','identifier']])\n",
    "\n",
    "        results= sp.search(q=\"track:\"+recommendation['song_title']+\" artist:\"+recommendation['artist_name'], limit=1)\n",
    "        for item in results['tracks']['items']:\n",
    "            print(\"The recommended song name: '{}', the name of the artist is:'{}'.Listen to the song at: {}\".format(item['name'],item['artists'][0]['name'],item['external_urls']['spotify']))\n",
    "\n",
    "    else:\n",
    "        print(\"Not hot song!\")\n",
    "        recommendation=(df[(df['identifier']==\"not_hot\") & (df['cluster_k30'] == user_cluster[0]) & (artist_name != df['artist_name']) & (song_name != df['song_title'])].sample())\n",
    "        display(recommendation[['artist_name','song_title','identifier']])\n",
    "\n",
    "        results= sp.search(q=\"track:\"+recommendation['song_title']+\" artist:\"+recommendation['artist_name'], limit=1)\n",
    "        for item in results['tracks']['items']:\n",
    "            print(\"The recommended song name: '{}', the name of the artist is:'{}'.Listen to the song at: {}\".format(item['name'],item['artists'][0]['name'],item['external_urls']['spotify']))\n",
    "\n"
   ]
  },
  {
   "cell_type": "code",
   "execution_count": 13,
   "id": "18f4f6e0",
   "metadata": {},
   "outputs": [
    {
     "name": "stdout",
     "output_type": "stream",
     "text": [
      "Hot song!\n"
     ]
    },
    {
     "data": {
      "text/html": [
       "<div>\n",
       "<style scoped>\n",
       "    .dataframe tbody tr th:only-of-type {\n",
       "        vertical-align: middle;\n",
       "    }\n",
       "\n",
       "    .dataframe tbody tr th {\n",
       "        vertical-align: top;\n",
       "    }\n",
       "\n",
       "    .dataframe thead th {\n",
       "        text-align: right;\n",
       "    }\n",
       "</style>\n",
       "<table border=\"1\" class=\"dataframe\">\n",
       "  <thead>\n",
       "    <tr style=\"text-align: right;\">\n",
       "      <th></th>\n",
       "      <th>artist_name</th>\n",
       "      <th>song_title</th>\n",
       "      <th>identifier</th>\n",
       "    </tr>\n",
       "  </thead>\n",
       "  <tbody>\n",
       "    <tr>\n",
       "      <th>58</th>\n",
       "      <td>Harry Styles</td>\n",
       "      <td>Daydreaming</td>\n",
       "      <td>hot100</td>\n",
       "    </tr>\n",
       "  </tbody>\n",
       "</table>\n",
       "</div>"
      ],
      "text/plain": [
       "     artist_name   song_title identifier\n",
       "58  Harry Styles  Daydreaming     hot100"
      ]
     },
     "metadata": {},
     "output_type": "display_data"
    },
    {
     "name": "stdout",
     "output_type": "stream",
     "text": [
      "The recommended song name: 'Daydreaming', the name of the artist is:'Harry Styles'.Listen to the song at: https://open.spotify.com/track/69w5X6uTrOaWM32IetSzvO\n"
     ]
    }
   ],
   "source": [
    "recommend(music_recommender_df)"
   ]
  },
  {
   "cell_type": "markdown",
   "id": "25c8acfb",
   "metadata": {},
   "source": [
    "THE END"
   ]
  }
 ],
 "metadata": {
  "kernelspec": {
   "display_name": "Python 3 (ipykernel)",
   "language": "python",
   "name": "python3"
  },
  "language_info": {
   "codemirror_mode": {
    "name": "ipython",
    "version": 3
   },
   "file_extension": ".py",
   "mimetype": "text/x-python",
   "name": "python",
   "nbconvert_exporter": "python",
   "pygments_lexer": "ipython3",
   "version": "3.9.7"
  },
  "toc": {
   "base_numbering": 1,
   "nav_menu": {},
   "number_sections": true,
   "sideBar": true,
   "skip_h1_title": false,
   "title_cell": "Table of Contents",
   "title_sidebar": "Contents",
   "toc_cell": false,
   "toc_position": {},
   "toc_section_display": true,
   "toc_window_display": false
  }
 },
 "nbformat": 4,
 "nbformat_minor": 5
}
