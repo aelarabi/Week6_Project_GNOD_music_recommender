{
 "cells": [
  {
   "cell_type": "code",
   "execution_count": null,
   "id": "5fdc5173",
   "metadata": {},
   "outputs": [],
   "source": [
    "import pandas as pd\n",
    "import numpy as np\n",
    "import pickle\n",
    "from sklearn import datasets # sklearn comes with some toy datasets to practise\n",
    "from sklearn.preprocessing import StandardScaler\n",
    "from sklearn.cluster import KMeans\n",
    "from sklearn.metrics import silhouette_score\n",
    "\n",
    "from sklearn.datasets import make_classification # download a dataset \n",
    "from sklearn.cluster import DBSCAN\n",
    "from sklearn.mixture import GaussianMixture\n",
    "from scipy.spatial import distance_matrix\n",
    "import matplotlib.pyplot as plt\n",
    "\n",
    "from sklearn.cluster import AgglomerativeClustering\n",
    "from scipy.cluster.hierarchy import dendrogram\n",
    "import matplotlib.pyplot as plt\n",
    "import seaborn as sns\n",
    "%matplotlib inline\n",
    "\n",
    "import spotipy\n",
    "import json\n",
    "from spotipy.oauth2 import SpotifyClientCredentials\n",
    "\n",
    "from config import *"
   ]
  },
  {
   "cell_type": "code",
   "execution_count": null,
   "id": "e93869e7",
   "metadata": {},
   "outputs": [],
   "source": [
    "sp = spotipy.Spotify(auth_manager=SpotifyClientCredentials(client_id= client_id,\n",
    "                                                           client_secret= client_secret)) #client_id and client-secret as written the config file."
   ]
  },
  {
   "cell_type": "code",
   "execution_count": null,
   "id": "75fb9cb9",
   "metadata": {},
   "outputs": [],
   "source": [
    "#funtion to load\n",
    "def load(filename = \"filename.pickle\"): \n",
    "    try: \n",
    "        with open(filename, \"rb\") as file: # we open the file to read \"rb\"\n",
    "            return pickle.load(file) #load\n",
    "    except FileNotFoundError: \n",
    "        print(\"File not found!\") "
   ]
  },
  {
   "cell_type": "code",
   "execution_count": null,
   "id": "15706ba5",
   "metadata": {},
   "outputs": [],
   "source": [
    "music_recommender_df=pd.read_csv('data/music_recommender_db.csv')\n",
    "#music_recommender_df.columns\n",
    "music_recommender_df=music_recommender_df.drop(['Unnamed: 0'], axis=1)"
   ]
  },
  {
   "cell_type": "markdown",
   "id": "b698b8fc",
   "metadata": {},
   "source": [
    "### Retrieve user provided song features: "
   ]
  },
  {
   "cell_type": "code",
   "execution_count": null,
   "id": "68083a27",
   "metadata": {},
   "outputs": [],
   "source": [
    "def get_user_song():\n",
    "    \n",
    "    artist_name=input(\"Please enter the full name of the artist: \")\n",
    "    song_name=input(\"Please enter the full name of the song: \")\n",
    "    \n",
    "    return artist_name, song_name\n"
   ]
  },
  {
   "cell_type": "code",
   "execution_count": null,
   "id": "b6460dc7",
   "metadata": {},
   "outputs": [],
   "source": [
    "artist_name, song_name = get_user_song()\n",
    "user_song_id=[]\n",
    "try:\n",
    "    results= sp.search(q=\"track:\"+song_name+\" artist:\"+artist_name, limit=1)\n",
    "                   #(q=\"track:\"+title+\" artist:\"+artist,limit=1)\n",
    "    song_id=results['tracks']['items'][0]['id']\n",
    "    user_song_id.append(song_id)\n",
    "    print(\"The song ID is {}\".format(user_song_id))\n",
    "except:\n",
    "    print(\"The song {} of the artist {} has not been found on Spotify\".format(song_name,artist_name))\n",
    "    print(\"Plese enter a new artist name and song:\")\n",
    "    artist_name, song_name = get_user_song()\n",
    "\n",
    "featuredic=sp.audio_features(user_song_id)[0]\n",
    "songs_features = { key : [featuredic[key]] for key in list(featuredic.keys()) }\n",
    "\n",
    "user_song_features=pd.DataFrame(songs_features)\n",
    "#user_song_features\n",
    "\n",
    "for item in results['tracks']['items']:\n",
    "    print(\"You can listen to: '{}', by the artist:'{}' at: {}\".format(item['name'],item['artists'][0]['name'],item['external_urls']['spotify']))"
   ]
  },
  {
   "cell_type": "code",
   "execution_count": null,
   "id": "13352985",
   "metadata": {},
   "outputs": [],
   "source": [
    "user_song_features_num = user_song_features.select_dtypes(include=np.number)\n",
    "user_song_features_num=user_song_features_num.drop(['key','mode','time_signature','duration_ms','liveness'],axis=1)"
   ]
  },
  {
   "cell_type": "markdown",
   "id": "e0b4725a",
   "metadata": {},
   "source": [
    "### Recommend the user a song based on perceived preference: "
   ]
  },
  {
   "cell_type": "code",
   "execution_count": null,
   "id": "0c657273",
   "metadata": {},
   "outputs": [],
   "source": [
    "scaler=load('transformation/scaler.pickle')\n",
    "user_song_features_scaled=scaler.transform(user_song_features_num)\n",
    "user_scaled_df = pd.DataFrame(user_song_features_scaled, columns = user_song_features_num.columns)"
   ]
  },
  {
   "cell_type": "code",
   "execution_count": null,
   "id": "53c2ea72",
   "metadata": {},
   "outputs": [],
   "source": [
    "kmeans_30=load('models/kmeans_30.pickle')\n",
    "kmeans_30"
   ]
  },
  {
   "cell_type": "code",
   "execution_count": null,
   "id": "5b0dd47a",
   "metadata": {},
   "outputs": [],
   "source": [
    "user_cluster = kmeans_30.predict(user_scaled_df)\n",
    "#user_cluster[0]\n",
    "#clusters\n",
    "#pd.Series(clusters).value_counts().sort_index()#.sum() # Number of wines "
   ]
  },
  {
   "cell_type": "code",
   "execution_count": null,
   "id": "0a5634da",
   "metadata": {},
   "outputs": [],
   "source": [
    "#isin_df(music_recommender_df, artist_name, song_name)\n",
    "df=music_recommender_df.copy()\n",
    "\n",
    "\n",
    "def isin_df(df, artist_name, song_name):\n",
    "    \"\"\"\n",
    "    This function looks if a input song is in the the input dataframe\n",
    "    \n",
    "    Inputs: \n",
    "      df -> dataframe\n",
    "      artist_name -> str\n",
    "      song_name -> str\n",
    "    \n",
    "    Outputs:\n",
    "      bool\n",
    "    \"\"\"\n",
    "    if (artist_name in list(df['artist_name'].values)) and (song_name in list(df['song_title'].values)) :\n",
    "        return True\n",
    "    else:\n",
    "        return False\n",
    "        \n",
    "\n",
    "df_hot = df[df['identifier'] == 'hot100']\n",
    "\n",
    "if ( isin_df(df_hot, artist_name, song_name) == True  ):\n",
    "    print(\"Hot song!\")\n",
    "    #display(df[(df['identifier']== \"hot100\") & (df['cluster_k30']==user_cluster[0])].head())\n",
    "    recommendation = df[(df['identifier']==\"hot100\") & (df['cluster_k30'] == user_cluster[0]) & (artist_name != df['artist_name']) & (song_name != df['song_title'])].sample()\n",
    "    display(recommendation[['artist_name','song_title','identifier']])\n",
    "    \n",
    "    results= sp.search(q=\"track:\"+recommendation['song_title']+\" artist:\"+recommendation['artist_name'], limit=1)\n",
    "    for item in results['tracks']['items']:\n",
    "        print(\"The recommended song name: '{}', the name of the artist is:'{}'.Listen to the song at: {}\".format(item['name'],item['artists'][0]['name'],item['external_urls']['spotify']))\n",
    "    \n",
    "else:\n",
    "    print(\"Not hot song!\")\n",
    "    recommendation=(df[(df['identifier']==\"not_hot\") & (df['cluster_k30'] == user_cluster[0]) & (artist_name != df['artist_name']) & (song_name != df['song_title'])].sample())\n",
    "    display(recommendation[['artist_name','song_title','identifier']])\n",
    "    \n",
    "    results= sp.search(q=\"track:\"+recommendation['song_title']+\" artist:\"+recommendation['artist_name'], limit=1)\n",
    "    for item in results['tracks']['items']:\n",
    "        print(\"The recommended song name: '{}', the name of the artist is:'{}'.Listen to the song at: {}\".format(item['name'],item['artists'][0]['name'],item['external_urls']['spotify']))\n",
    "\n"
   ]
  },
  {
   "cell_type": "code",
   "execution_count": null,
   "id": "18f4f6e0",
   "metadata": {},
   "outputs": [],
   "source": []
  },
  {
   "cell_type": "markdown",
   "id": "25c8acfb",
   "metadata": {},
   "source": [
    "THE END"
   ]
  }
 ],
 "metadata": {
  "kernelspec": {
   "display_name": "Python 3 (ipykernel)",
   "language": "python",
   "name": "python3"
  },
  "language_info": {
   "codemirror_mode": {
    "name": "ipython",
    "version": 3
   },
   "file_extension": ".py",
   "mimetype": "text/x-python",
   "name": "python",
   "nbconvert_exporter": "python",
   "pygments_lexer": "ipython3",
   "version": "3.9.7"
  },
  "toc": {
   "base_numbering": 1,
   "nav_menu": {},
   "number_sections": true,
   "sideBar": true,
   "skip_h1_title": false,
   "title_cell": "Table of Contents",
   "title_sidebar": "Contents",
   "toc_cell": false,
   "toc_position": {},
   "toc_section_display": true,
   "toc_window_display": false
  }
 },
 "nbformat": 4,
 "nbformat_minor": 5
}
